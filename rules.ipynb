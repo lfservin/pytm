{
 "cells": [
  {
   "cell_type": "markdown",
   "metadata": {},
   "source": [
    "# Use a rule engine"
   ]
  },
  {
   "cell_type": "code",
   "execution_count": 1,
   "metadata": {},
   "outputs": [
    {
     "name": "stdout",
     "output_type": "stream",
     "text": [
      "Hello World\n"
     ]
    },
    {
     "data": {
      "text/plain": [
       "{'sid': '0', 'id': 'sid-0', '$s': 1}"
      ]
     },
     "execution_count": 1,
     "metadata": {},
     "output_type": "execute_result"
    }
   ],
   "source": [
    "from durable.lang import *\n",
    "\n",
    "with ruleset('test'):\n",
    "    # antecedent\n",
    "    @when_all(m.subject == 'World')\n",
    "    def say_hello(c):\n",
    "        # consequent\n",
    "        print ('Hello {0}'.format(c.m.subject))\n",
    "\n",
    "post('test', { 'subject': 'World' })"
   ]
  },
  {
   "cell_type": "markdown",
   "metadata": {},
   "source": [
    "## create a more challenging case with forward inference. "
   ]
  },
  {
   "cell_type": "markdown",
   "metadata": {},
   "source": [
    "Start defining the ruleset"
   ]
  },
  {
   "cell_type": "code",
   "execution_count": 2,
   "metadata": {},
   "outputs": [],
   "source": [
    "from durable.lang import *\n",
    "\n",
    "with ruleset('animal'):\n",
    "    @when_all(c.first << (m.predicate == 'eats') & (m.object == 'flies'),\n",
    "              (m.predicate == 'lives') & (m.object == 'water') & (m.subject == c.first.subject))\n",
    "    def frog(c):\n",
    "        c.assert_fact({ 'subject': c.first.subject, 'predicate': 'is', 'object': 'frog' })\n",
    "\n",
    "    @when_all(c.first << (m.predicate == 'eats') & (m.object == 'flies'),\n",
    "              (m.predicate == 'lives') & (m.object == 'land') & (m.subject == c.first.subject))\n",
    "    def chameleon(c):\n",
    "        c.assert_fact({ 'subject': c.first.subject, 'predicate': 'is', 'object': 'chameleon' })\n",
    "\n",
    "    @when_all((m.predicate == 'eats') & (m.object == 'worms'))\n",
    "    def bird(c):\n",
    "        c.assert_fact({ 'subject': c.m.subject, 'predicate': 'is', 'object': 'bird' })\n",
    "\n",
    "    @when_all((m.predicate == 'is') & (m.object == 'frog'))\n",
    "    def green(c):\n",
    "        c.assert_fact({ 'subject': c.m.subject, 'predicate': 'is', 'object': 'green' })\n",
    "\n",
    "    @when_all((m.predicate == 'is') & (m.object == 'chameleon'))\n",
    "    def grey(c):\n",
    "        c.assert_fact({ 'subject': c.m.subject, 'predicate': 'is', 'object': 'grey' })\n",
    "\n",
    "    @when_all((m.predicate == 'is') & (m.object == 'bird'))\n",
    "    def black(c):\n",
    "        c.assert_fact({ 'subject': c.m.subject, 'predicate': 'is', 'object': 'black' })\n",
    "\n",
    "    @when_all(+m.subject)\n",
    "    def output(c):\n",
    "        print('Fact: {0} {1} {2}'.format(c.m.subject, c.m.predicate, c.m.object))"
   ]
  },
  {
   "cell_type": "markdown",
   "metadata": {},
   "source": [
    "now make assertions"
   ]
  },
  {
   "cell_type": "code",
   "execution_count": 3,
   "metadata": {},
   "outputs": [
    {
     "name": "stdout",
     "output_type": "stream",
     "text": [
      "Fact: Kermit eats flies\n"
     ]
    },
    {
     "data": {
      "text/plain": [
       "{'sid': '0', 'id': 'sid-0', '$s': 1}"
      ]
     },
     "execution_count": 3,
     "metadata": {},
     "output_type": "execute_result"
    }
   ],
   "source": [
    "assert_fact('animal', { 'subject': 'Kermit', 'predicate': 'eats', 'object': 'flies' })"
   ]
  },
  {
   "cell_type": "code",
   "execution_count": 6,
   "metadata": {},
   "outputs": [
    {
     "name": "stdout",
     "output_type": "stream",
     "text": [
      "Fact: Kermit is green\n",
      "Fact: Kermit is frog\n",
      "Fact: Kermit lives water\n"
     ]
    },
    {
     "data": {
      "text/plain": [
       "{'sid': '0', 'id': 'sid-0', '$s': 1}"
      ]
     },
     "execution_count": 6,
     "metadata": {},
     "output_type": "execute_result"
    }
   ],
   "source": [
    "assert_fact('animal', { 'subject': 'Kermit', 'predicate': 'lives', 'object': 'water' })"
   ]
  },
  {
   "cell_type": "code",
   "execution_count": 7,
   "metadata": {},
   "outputs": [
    {
     "name": "stdout",
     "output_type": "stream",
     "text": [
      "Fact: Greedy eats flies\n"
     ]
    },
    {
     "data": {
      "text/plain": [
       "{'sid': '0', 'id': 'sid-0', '$s': 1}"
      ]
     },
     "execution_count": 7,
     "metadata": {},
     "output_type": "execute_result"
    }
   ],
   "source": [
    "assert_fact('animal', { 'subject': 'Greedy', 'predicate': 'eats', 'object': 'flies' })"
   ]
  },
  {
   "cell_type": "code",
   "execution_count": 8,
   "metadata": {},
   "outputs": [
    {
     "name": "stdout",
     "output_type": "stream",
     "text": [
      "Fact: Greedy is grey\n",
      "Fact: Greedy is chameleon\n",
      "Fact: Greedy lives land\n"
     ]
    },
    {
     "data": {
      "text/plain": [
       "{'sid': '0', 'id': 'sid-0', '$s': 1}"
      ]
     },
     "execution_count": 8,
     "metadata": {},
     "output_type": "execute_result"
    }
   ],
   "source": [
    "assert_fact('animal', { 'subject': 'Greedy', 'predicate': 'lives', 'object': 'land' })"
   ]
  },
  {
   "cell_type": "code",
   "execution_count": 9,
   "metadata": {},
   "outputs": [
    {
     "name": "stdout",
     "output_type": "stream",
     "text": [
      "Fact: Tweety is black\n",
      "Fact: Tweety is bird\n",
      "Fact: Tweety eats worms\n"
     ]
    },
    {
     "data": {
      "text/plain": [
       "{'sid': '0', 'id': 'sid-0', '$s': 1}"
      ]
     },
     "execution_count": 9,
     "metadata": {},
     "output_type": "execute_result"
    }
   ],
   "source": [
    "assert_fact('animal', { 'subject': 'Tweety', 'predicate': 'eats', 'object': 'worms' })"
   ]
  },
  {
   "cell_type": "markdown",
   "metadata": {},
   "source": [
    "## Now threat model\n",
    "we understand how the rules work. construct some rules and try to apply them"
   ]
  },
  {
   "cell_type": "code",
   "execution_count": 10,
   "metadata": {},
   "outputs": [
    {
     "name": "stdout",
     "output_type": "stream",
     "text": [
      "Fraud detected -> CA, US\n"
     ]
    },
    {
     "data": {
      "text/plain": [
       "{'sid': '0', 'id': 'sid-0', '$s': 1}"
      ]
     },
     "execution_count": 10,
     "metadata": {},
     "output_type": "execute_result"
    }
   ],
   "source": [
    "with ruleset('risk'):\n",
    "    @when_all(c.first << m.t == 'purchase',\n",
    "              c.second << m.location != c.first.location)\n",
    "    # the event pair will only be observed once\n",
    "    def fraud(c):\n",
    "        print('Fraud detected -> {0}, {1}'.format(c.first.location, c.second.location))\n",
    "        \n",
    "post('risk', {'t': 'purchase', 'location': 'US'})\n",
    "post('risk', {'t': 'purchase', 'location': 'CA'})\n",
    "    "
   ]
  },
  {
   "cell_type": "code",
   "execution_count": 11,
   "metadata": {},
   "outputs": [],
   "source": [
    "post('risk', {'t': 'purchase', 'location': 'CA'})"
   ]
  },
  {
   "cell_type": "code",
   "execution_count": 12,
   "metadata": {},
   "outputs": [
    {
     "name": "stdout",
     "output_type": "stream",
     "text": [
      "Fraud detected -> US, CA\n"
     ]
    },
    {
     "data": {
      "text/plain": [
       "{'sid': '0', 'id': 'sid-0', '$s': 1}"
      ]
     },
     "execution_count": 12,
     "metadata": {},
     "output_type": "execute_result"
    }
   ],
   "source": [
    "post('risk', {'t': 'purchase', 'location': 'US'})"
   ]
  },
  {
   "cell_type": "code",
   "execution_count": 4,
   "metadata": {},
   "outputs": [],
   "source": [
    "with ruleset('threatModel'):\n",
    "    #antecedent\n",
    "    @when_all((m.target == \"Dataflow\"),\n",
    "              (m.target.authenticatedWith == False))\n",
    "    def AA01(c):\n",
    "        print({\n",
    "            \"description\": \"Dataflow not or insufficiently authenticated [vulnerability](https://cwe.mitre.org/data/definitions/287.html)\",\n",
    "            \"comments\": \"instead of looking at both sides of a flow, consider the flow authenticated only if both sides authenticate\",\n",
    "            })\n",
    "        \n"
   ]
  },
  {
   "cell_type": "code",
   "execution_count": null,
   "metadata": {},
   "outputs": [],
   "source": [
    "post('threatModel', {target:{'Dataflow':}})"
   ]
  }
 ],
 "metadata": {
  "kernelspec": {
   "display_name": "Python 3",
   "language": "python",
   "name": "python3"
  },
  "language_info": {
   "codemirror_mode": {
    "name": "ipython",
    "version": 3
   },
   "file_extension": ".py",
   "mimetype": "text/x-python",
   "name": "python",
   "nbconvert_exporter": "python",
   "pygments_lexer": "ipython3",
   "version": "3.6.5"
  }
 },
 "nbformat": 4,
 "nbformat_minor": 4
}
